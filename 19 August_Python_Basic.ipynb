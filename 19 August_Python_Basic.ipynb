{
 "cells": [
  {
   "cell_type": "code",
   "execution_count": 20,
   "id": "8f5ab0b7-55cf-4d69-a065-e0dbf02e3c21",
   "metadata": {},
   "outputs": [
    {
     "data": {
      "text/plain": [
       "'1.Swap the values using any temporary variable.'"
      ]
     },
     "execution_count": 20,
     "metadata": {},
     "output_type": "execute_result"
    }
   ],
   "source": [
    "'''1.Swap the values using any temporary variable.'''"
   ]
  },
  {
   "cell_type": "code",
   "execution_count": 21,
   "id": "60717612-1605-426f-9fe3-cea8cefd3abd",
   "metadata": {},
   "outputs": [],
   "source": [
    "#take 2 variable\n",
    "x,y=10,20"
   ]
  },
  {
   "cell_type": "code",
   "execution_count": 22,
   "id": "14264a34-d460-4891-8178-b64f498e1fec",
   "metadata": {},
   "outputs": [
    {
     "data": {
      "text/plain": [
       "(10, 20)"
      ]
     },
     "execution_count": 22,
     "metadata": {},
     "output_type": "execute_result"
    }
   ],
   "source": [
    "#print x and y\n",
    "x,y"
   ]
  },
  {
   "cell_type": "code",
   "execution_count": 23,
   "id": "9bea80c7-0d33-4a94-ad6e-f58920f96e27",
   "metadata": {},
   "outputs": [],
   "source": [
    "# lets swipe x into y and y into x\n",
    "x,y=y,x"
   ]
  },
  {
   "cell_type": "code",
   "execution_count": 24,
   "id": "9611ff96-c7fa-4ad3-af86-527777dc3819",
   "metadata": {},
   "outputs": [
    {
     "data": {
      "text/plain": [
       "(20, 10)"
      ]
     },
     "execution_count": 24,
     "metadata": {},
     "output_type": "execute_result"
    }
   ],
   "source": [
    "# print x any y again\n",
    "x,y"
   ]
  },
  {
   "cell_type": "code",
   "execution_count": 25,
   "id": "d9a44913-1502-4f65-9cf9-3e7d7d6d687e",
   "metadata": {},
   "outputs": [
    {
     "data": {
      "text/plain": [
       "'2. calculates the area of a rectangle'"
      ]
     },
     "execution_count": 25,
     "metadata": {},
     "output_type": "execute_result"
    }
   ],
   "source": [
    "'''2. calculates the area of a rectangle'''"
   ]
  },
  {
   "cell_type": "code",
   "execution_count": 27,
   "id": "734a01bf-9f78-430d-98d4-016cb4759943",
   "metadata": {},
   "outputs": [
    {
     "name": "stdin",
     "output_type": "stream",
     "text": [
      "Enter A Length of rectangle:-  45\n",
      "Enter A Breadth of rectangle:-  80\n"
     ]
    },
    {
     "name": "stdout",
     "output_type": "stream",
     "text": [
      "Your Area of rectangle is:-  3600\n"
     ]
    }
   ],
   "source": [
    "#lets take a 2 user input a and b\n",
    "a=int(input(\"Enter A Length of rectangle:- \"))\n",
    "b=int(input(\"Enter A Breadth of rectangle:- \"))\n",
    "\n",
    "# aria of rectangle = Length x Breadth inplement in our formula\n",
    "area=a*b\n",
    "\n",
    "''' print area we can take a print() method'''\n",
    "print('Your Area of rectangle is:- ',area)"
   ]
  },
  {
   "cell_type": "code",
   "execution_count": 28,
   "id": "1ca7fccf-e9ee-4824-8a62-25960f723b62",
   "metadata": {},
   "outputs": [
    {
     "data": {
      "text/plain": [
       "'3. converts temperatures from Celsius to Fahrenheit.'"
      ]
     },
     "execution_count": 28,
     "metadata": {},
     "output_type": "execute_result"
    }
   ],
   "source": [
    "'''3. converts temperatures from Celsius to Fahrenheit.'''"
   ]
  },
  {
   "cell_type": "code",
   "execution_count": 29,
   "id": "a92a2ebe-f6b7-4450-a5ad-529a56be492e",
   "metadata": {},
   "outputs": [
    {
     "name": "stdin",
     "output_type": "stream",
     "text": [
      "Enter A Celsius:-  45\n"
     ]
    },
    {
     "data": {
      "text/plain": [
       "113.0"
      ]
     },
     "execution_count": 29,
     "metadata": {},
     "output_type": "execute_result"
    }
   ],
   "source": [
    "#lets take a user input and give name is calsius in integer\n",
    "celsius=int(input(\"Enter A Celsius:- \"))\n",
    "\n",
    "# fahrenheit=celsius x (9/5)+32 implement in our program\n",
    "fahrenheit=celsius*(9/5)+32\n",
    "\n",
    "#print fahrenheit\n",
    "fahrenheit"
   ]
  },
  {
   "cell_type": "code",
   "execution_count": 30,
   "id": "24e2afba-2f43-412d-a313-9fa7fca2350f",
   "metadata": {},
   "outputs": [
    {
     "data": {
      "text/plain": [
       "'4. takes a string as input and prints the length of the string.'"
      ]
     },
     "execution_count": 30,
     "metadata": {},
     "output_type": "execute_result"
    }
   ],
   "source": [
    "'''4. takes a string as input and prints the length of the string.''' "
   ]
  },
  {
   "cell_type": "code",
   "execution_count": 31,
   "id": "e7b0f788-9abc-4bec-909d-3541de6d60ea",
   "metadata": {},
   "outputs": [
    {
     "data": {
      "text/plain": [
       "'PW Skills Is Very Good'"
      ]
     },
     "execution_count": 31,
     "metadata": {},
     "output_type": "execute_result"
    }
   ],
   "source": [
    "abc='PW Skills Is Very Good'\n",
    "abc"
   ]
  },
  {
   "cell_type": "code",
   "execution_count": 32,
   "id": "2f8a9051-10ec-4cb2-ac82-fefbaf8b3e95",
   "metadata": {},
   "outputs": [
    {
     "data": {
      "text/plain": [
       "22"
      ]
     },
     "execution_count": 32,
     "metadata": {},
     "output_type": "execute_result"
    }
   ],
   "source": [
    "len(abc)"
   ]
  },
  {
   "cell_type": "code",
   "execution_count": 33,
   "id": "ad285b5e-6335-4201-8065-03bdaca6d645",
   "metadata": {},
   "outputs": [
    {
     "data": {
      "text/plain": [
       "'5. counts the number of vowels (a, e, i, o, u) in the string.'"
      ]
     },
     "execution_count": 33,
     "metadata": {},
     "output_type": "execute_result"
    }
   ],
   "source": [
    "'''5. counts the number of vowels (a, e, i, o, u) in the string.'''"
   ]
  },
  {
   "cell_type": "code",
   "execution_count": 34,
   "id": "1357227e-18e2-4d92-a526-64741f966d93",
   "metadata": {},
   "outputs": [
    {
     "name": "stdin",
     "output_type": "stream",
     "text": [
      "Enter A String:-  Vinay Kotadiya\n"
     ]
    },
    {
     "name": "stdout",
     "output_type": "stream",
     "text": [
      "vinay kotadiya\n",
      "Vowels of this line is:- 6\n"
     ]
    }
   ],
   "source": [
    "a=input(\"Enter A String:- \")\n",
    "small=a.lower()\n",
    "print(small)\n",
    "count=0\n",
    "vowels=['a','e','i','o','u']\n",
    "\n",
    "for char in small:\n",
    "    if char in vowels:\n",
    "        count=count+1\n",
    "\n",
    "print(\"Vowels of this line is:-\",count)        "
   ]
  },
  {
   "cell_type": "code",
   "execution_count": 35,
   "id": "c25e0613-fec2-4f1a-92ee-d0b1b971c5f5",
   "metadata": {},
   "outputs": [
    {
     "data": {
      "text/plain": [
       "'6. using string slicing and print the reversed string.'"
      ]
     },
     "execution_count": 35,
     "metadata": {},
     "output_type": "execute_result"
    }
   ],
   "source": [
    "'''6. using string slicing and print the reversed string.'''"
   ]
  },
  {
   "cell_type": "code",
   "execution_count": 36,
   "id": "03aad4c0-080f-40b7-ae0d-e6d7f2c9011d",
   "metadata": {},
   "outputs": [
    {
     "data": {
      "text/plain": [
       "'VinayKotadiya'"
      ]
     },
     "execution_count": 36,
     "metadata": {},
     "output_type": "execute_result"
    }
   ],
   "source": [
    "reverse=\"VinayKotadiya\"\n",
    "reverse"
   ]
  },
  {
   "cell_type": "code",
   "execution_count": 37,
   "id": "2bdc54ef-f507-4241-9d22-d4bf07264697",
   "metadata": {},
   "outputs": [
    {
     "data": {
      "text/plain": [
       "'ayidatoKyaniV'"
      ]
     },
     "execution_count": 37,
     "metadata": {},
     "output_type": "execute_result"
    }
   ],
   "source": [
    "reverse[::-1]"
   ]
  },
  {
   "cell_type": "code",
   "execution_count": 38,
   "id": "52cb0303-a7f7-4053-9d7f-a1f14b9492e2",
   "metadata": {},
   "outputs": [
    {
     "data": {
      "text/plain": [
       "'7. takes a string as input and checks if it is a palindrome.'"
      ]
     },
     "execution_count": 38,
     "metadata": {},
     "output_type": "execute_result"
    }
   ],
   "source": [
    "'''7. takes a string as input and checks if it is a palindrome.'''"
   ]
  },
  {
   "cell_type": "code",
   "execution_count": 39,
   "id": "ba32845d-88c3-4f43-ac40-d7417c148a25",
   "metadata": {},
   "outputs": [
    {
     "name": "stdin",
     "output_type": "stream",
     "text": [
      "enter a string:-  malayalam\n"
     ]
    },
    {
     "name": "stdout",
     "output_type": "stream",
     "text": [
      "Yes,Your String Is Palindrome\n"
     ]
    }
   ],
   "source": [
    "str=input(\"enter a string:- \")\n",
    "if str==str[::-1]:\n",
    "    print(\"Yes,Your String Is Palindrome\")\n",
    "else:\n",
    "    print(\"No,Your String Is Not Palindrome\")"
   ]
  },
  {
   "cell_type": "code",
   "execution_count": 40,
   "id": "2c5d7d39-0a91-4f12-a4f0-9eee3fce1013",
   "metadata": {},
   "outputs": [
    {
     "data": {
      "text/plain": [
       "'8. removes all the spaces from it.'"
      ]
     },
     "execution_count": 40,
     "metadata": {},
     "output_type": "execute_result"
    }
   ],
   "source": [
    "'''8. removes all the spaces from it.'''"
   ]
  },
  {
   "cell_type": "code",
   "execution_count": 41,
   "id": "da99e3eb-2a66-4236-b8c7-6c463768c8e0",
   "metadata": {},
   "outputs": [
    {
     "name": "stdin",
     "output_type": "stream",
     "text": [
      "Enter your Full name:-         Vinay\n"
     ]
    },
    {
     "name": "stdout",
     "output_type": "stream",
     "text": [
      "Vinay\n"
     ]
    }
   ],
   "source": [
    "remove=input(\"Enter your Full name:- \")\n",
    "str=str.replace(\" \",)"
   ]
  },
  {
   "cell_type": "code",
   "execution_count": null,
   "id": "5fea8260-efdf-404c-97bf-0da396d8ef2e",
   "metadata": {},
   "outputs": [],
   "source": []
  }
 ],
 "metadata": {
  "kernelspec": {
   "display_name": "Python 3 (ipykernel)",
   "language": "python",
   "name": "python3"
  },
  "language_info": {
   "codemirror_mode": {
    "name": "ipython",
    "version": 3
   },
   "file_extension": ".py",
   "mimetype": "text/x-python",
   "name": "python",
   "nbconvert_exporter": "python",
   "pygments_lexer": "ipython3",
   "version": "3.10.8"
  }
 },
 "nbformat": 4,
 "nbformat_minor": 5
}
